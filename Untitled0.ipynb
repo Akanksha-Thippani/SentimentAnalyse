{
  "nbformat": 4,
  "nbformat_minor": 0,
  "metadata": {
    "colab": {
      "provenance": [],
      "authorship_tag": "ABX9TyM8tnA1UDA+UF7Iu99rgp34",
      "include_colab_link": true
    },
    "kernelspec": {
      "name": "python3",
      "display_name": "Python 3"
    },
    "language_info": {
      "name": "python"
    }
  },
  "cells": [
    {
      "cell_type": "markdown",
      "metadata": {
        "id": "view-in-github",
        "colab_type": "text"
      },
      "source": [
        "<a href=\"https://colab.research.google.com/github/Akanksha-Thippani/SentimentAnalyse/blob/main/Untitled0.ipynb\" target=\"_parent\"><img src=\"https://colab.research.google.com/assets/colab-badge.svg\" alt=\"Open In Colab\"/></a>"
      ]
    },
    {
      "cell_type": "code",
      "source": [
        "!pip install --upgrade gradio"
      ],
      "metadata": {
        "id": "bBULY8DuGVhf"
      },
      "execution_count": null,
      "outputs": []
    },
    {
      "cell_type": "code",
      "source": [
        "from google.colab import drive\n",
        "drive.mount('/content/drive')\n"
      ],
      "metadata": {
        "colab": {
          "base_uri": "https://localhost:8080/"
        },
        "id": "GX06-P4RFoAm",
        "outputId": "efdc5dee-0615-44ae-afe2-3bdc517a735b"
      },
      "execution_count": null,
      "outputs": [
        {
          "output_type": "stream",
          "name": "stdout",
          "text": [
            "Drive already mounted at /content/drive; to attempt to forcibly remount, call drive.mount(\"/content/drive\", force_remount=True).\n"
          ]
        }
      ]
    },
    {
      "cell_type": "code",
      "source": [
        "import os\n",
        "from getpass import getpass\n",
        "os.environ['GROQ_API_KEY'] = getpass(\"Paste your GROQ API key (hidden): \")"
      ],
      "metadata": {
        "colab": {
          "base_uri": "https://localhost:8080/"
        },
        "id": "cosjdijSGzX9",
        "outputId": "271b67fb-639c-49dc-cc24-f4b95ad04a7d"
      },
      "execution_count": null,
      "outputs": [
        {
          "name": "stdout",
          "output_type": "stream",
          "text": [
            "Paste your GROQ API key (hidden): ··········\n"
          ]
        }
      ]
    },
    {
      "cell_type": "code",
      "source": [
        "import os, json, re\n",
        "import pandas as pd\n",
        "from groq import Groq\n",
        "\n",
        "# ✅ updated model name (llama3-70b-8192)\n",
        "DEFAULT_MODEL = \"openai/gpt-oss-20b\"  # supported model\n",
        "\n",
        "\n",
        "client = Groq(api_key=os.environ.get(\"GROQ_API_KEY\"))\n",
        "\n",
        "def analyze_transcript_with_groq(transcript: str, model: str = DEFAULT_MODEL):\n",
        "    \"\"\"\n",
        "    Summarise transcript and classify sentiment using Groq's chat completion API.\n",
        "    \"\"\"\n",
        "    system = {\"role\":\"system\",\n",
        "              \"content\":\"You summarise customer calls and classify sentiment.\"}\n",
        "    user = {\"role\":\"user\", \"content\": (\n",
        "        \"Return ONLY this JSON:\\n\"\n",
        "        '{\"summary\":\"<2-3 sentence summary>\", \"sentiment\":\"Positive|Neutral|Negative|Mixed\"}\\n\\n'\n",
        "        \"Transcript:\\n\" + transcript\n",
        "    )}\n",
        "    resp = client.chat.completions.create(messages=[system, user], model=model)\n",
        "    raw_text = resp.choices[0].message.content\n",
        "\n",
        "    # Try strict JSON parse first\n",
        "    try:\n",
        "        parsed = json.loads(raw_text)\n",
        "        return parsed.get(\"summary\",\"\").strip(), parsed.get(\"sentiment\",\"\").strip(), raw_text\n",
        "    except Exception:\n",
        "        # fallback: find JSON-like substring\n",
        "        m = re.search(r'\\{.*\\}', raw_text, re.S)\n",
        "        if m:\n",
        "            try:\n",
        "                parsed = json.loads(m.group())\n",
        "                return parsed.get(\"summary\",\"\").strip(), parsed.get(\"sentiment\",\"\").strip(), raw_text\n",
        "            except Exception:\n",
        "                pass\n",
        "        # final fallback\n",
        "        summary, sentiment = \"\", \"\"\n",
        "        for line in raw_text.splitlines():\n",
        "            if line.lower().startswith(\"summary\"):\n",
        "                summary = line.split(\":\",1)[1].strip()\n",
        "            if line.lower().startswith(\"sentiment\"):\n",
        "                sentiment = line.split(\":\",1)[1].strip()\n",
        "        if not summary: summary = raw_text[:250]\n",
        "        if not sentiment: sentiment = \"Unknown\"\n",
        "        return summary, sentiment, raw_text\n",
        "\n",
        "def save_row_to_csv(transcript, summary, sentiment,\n",
        "                    path=\"/content/drive/MyDrive/call_analysis.csv\"):\n",
        "    \"\"\"\n",
        "    Append results to a CSV file in Google Drive.\n",
        "    \"\"\"\n",
        "    df = pd.DataFrame([{\"Transcript\": transcript,\n",
        "                        \"Summary\": summary,\n",
        "                        \"Sentiment\": sentiment}])\n",
        "    if os.path.exists(path):\n",
        "        df.to_csv(path, mode='a', header=False, index=False)\n",
        "    else:\n",
        "        df.to_csv(path, index=False)\n",
        "    return path"
      ],
      "metadata": {
        "id": "t8IqYoxFG__2"
      },
      "execution_count": null,
      "outputs": []
    },
    {
      "cell_type": "code",
      "source": [
        "sample = \"\"\"Agent: Hello, how can I help you?\n",
        "Customer: I tried to book a slot yesterday but payment failed and I got charged twice.\"\"\"\n",
        "\n",
        "summary, sentiment, raw = analyze_transcript_with_groq(sample)\n",
        "print(\"Summary:\", summary)\n",
        "print(\"Sentiment:\", sentiment)\n",
        "print(\"Will save to:\", save_row_to_csv(sample, summary, sentiment))\n"
      ],
      "metadata": {
        "colab": {
          "base_uri": "https://localhost:8080/"
        },
        "id": "lBAhepr5HUjV",
        "outputId": "eaf7cfa8-1439-463e-dcd1-e125eb0eaae7"
      },
      "execution_count": null,
      "outputs": [
        {
          "output_type": "stream",
          "name": "stdout",
          "text": [
            "Summary: The customer tried to book a slot but the payment failed, resulting in a double charge. They are seeking help to resolve the issue and prevent further errors.\n",
            "Sentiment: Negative\n",
            "Will save to: /content/drive/MyDrive/call_analysis.csv\n"
          ]
        }
      ]
    },
    {
      "cell_type": "markdown",
      "source": [],
      "metadata": {
        "id": "3tIjVXp0APAx"
      }
    },
    {
      "cell_type": "code",
      "source": [
        "import gradio as gr\n",
        "\n",
        "def process_and_save(transcript):\n",
        "    summary, sentiment, raw = analyze_transcript_with_groq(transcript)\n",
        "    saved = save_row_to_csv(transcript, summary, sentiment)\n",
        "    return summary, sentiment, raw + \"\\n\\nSaved to: \" + saved\n",
        "\n",
        "with gr.Blocks() as demo:\n",
        "    gr.Markdown(\"## Call Transcript Analyzer\")\n",
        "    inp = gr.Textbox(label=\"Transcript\", lines=8)\n",
        "    out_sum = gr.Textbox(label=\"Summary\", interactive=False)\n",
        "    out_sent = gr.Textbox(label=\"Sentiment\", interactive=False)\n",
        "    out_raw = gr.Textbox(label=\"Raw model output\", lines=6, interactive=False)\n",
        "    btn = gr.Button(\"Analyze & Save\")\n",
        "    btn.click(fn=process_and_save, inputs=inp,\n",
        "              outputs=[out_sum, out_sent, out_raw])\n",
        "\n",
        "demo.launch(share=True, debug=True)\n",
        "\n"
      ],
      "metadata": {
        "colab": {
          "base_uri": "https://localhost:8080/",
          "height": 1000
        },
        "id": "9PeAnPh6HeEF",
        "outputId": "273e0322-51c3-4a94-c941-8de35e7d0849"
      },
      "execution_count": null,
      "outputs": [
        {
          "output_type": "stream",
          "name": "stdout",
          "text": [
            "Colab notebook detected. This cell will run indefinitely so that you can see errors and logs. To turn off, set debug=False in launch().\n",
            "* Running on public URL: https://c5c3e5573b93c8c393.gradio.live\n",
            "\n",
            "This share link expires in 1 week. For free permanent hosting and GPU upgrades, run `gradio deploy` from the terminal in the working directory to deploy to Hugging Face Spaces (https://huggingface.co/spaces)\n"
          ]
        },
        {
          "output_type": "display_data",
          "data": {
            "text/plain": [
              "<IPython.core.display.HTML object>"
            ],
            "text/html": [
              "<div><iframe src=\"https://c5c3e5573b93c8c393.gradio.live\" width=\"100%\" height=\"500\" allow=\"autoplay; camera; microphone; clipboard-read; clipboard-write;\" frameborder=\"0\" allowfullscreen></iframe></div>"
            ]
          },
          "metadata": {}
        },
        {
          "output_type": "stream",
          "name": "stderr",
          "text": [
            "Traceback (most recent call last):\n",
            "  File \"/usr/local/lib/python3.12/dist-packages/gradio/queueing.py\", line 745, in process_events\n",
            "    response = await route_utils.call_process_api(\n",
            "               ^^^^^^^^^^^^^^^^^^^^^^^^^^^^^^^^^^^\n",
            "  File \"/usr/local/lib/python3.12/dist-packages/gradio/route_utils.py\", line 354, in call_process_api\n",
            "    output = await app.get_blocks().process_api(\n",
            "             ^^^^^^^^^^^^^^^^^^^^^^^^^^^^^^^^^^^\n",
            "  File \"/usr/local/lib/python3.12/dist-packages/gradio/blocks.py\", line 2116, in process_api\n",
            "    result = await self.call_function(\n",
            "             ^^^^^^^^^^^^^^^^^^^^^^^^^\n",
            "  File \"/usr/local/lib/python3.12/dist-packages/gradio/blocks.py\", line 1623, in call_function\n",
            "    prediction = await anyio.to_thread.run_sync(  # type: ignore\n",
            "                 ^^^^^^^^^^^^^^^^^^^^^^^^^^^^^^^^^^^^^^^^^^^^^^^\n",
            "  File \"/usr/local/lib/python3.12/dist-packages/anyio/to_thread.py\", line 56, in run_sync\n",
            "    return await get_async_backend().run_sync_in_worker_thread(\n",
            "           ^^^^^^^^^^^^^^^^^^^^^^^^^^^^^^^^^^^^^^^^^^^^^^^^^^^^\n",
            "  File \"/usr/local/lib/python3.12/dist-packages/anyio/_backends/_asyncio.py\", line 2485, in run_sync_in_worker_thread\n",
            "    return await future\n",
            "           ^^^^^^^^^^^^\n",
            "  File \"/usr/local/lib/python3.12/dist-packages/anyio/_backends/_asyncio.py\", line 976, in run\n",
            "    result = context.run(func, *args)\n",
            "             ^^^^^^^^^^^^^^^^^^^^^^^^\n",
            "  File \"/usr/local/lib/python3.12/dist-packages/gradio/utils.py\", line 915, in wrapper\n",
            "    response = f(*args, **kwargs)\n",
            "               ^^^^^^^^^^^^^^^^^^\n",
            "  File \"/tmp/ipython-input-426766008.py\", line 4, in process_and_save\n",
            "    summary, sentiment, raw = analyze_transcript_with_groq(transcript)\n",
            "                              ^^^^^^^^^^^^^^^^^^^^^^^^^^^^\n",
            "NameError: name 'analyze_transcript_with_groq' is not defined\n"
          ]
        }
      ]
    }
  ]
}