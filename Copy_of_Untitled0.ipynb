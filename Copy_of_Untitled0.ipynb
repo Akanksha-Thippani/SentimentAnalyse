{
  "nbformat": 4,
  "nbformat_minor": 0,
  "metadata": {
    "colab": {
      "provenance": [],
      "authorship_tag": "ABX9TyOIDBMQUZSnmmYn9BHdPve5",
      "include_colab_link": true
    },
    "kernelspec": {
      "name": "python3",
      "display_name": "Python 3"
    },
    "language_info": {
      "name": "python"
    }
  },
  "cells": [
    {
      "cell_type": "markdown",
      "metadata": {
        "id": "view-in-github",
        "colab_type": "text"
      },
      "source": [
        "<a href=\"https://colab.research.google.com/github/Akanksha-Thippani/SentimentAnalyse/blob/main/Copy_of_Untitled0.ipynb\" target=\"_parent\"><img src=\"https://colab.research.google.com/assets/colab-badge.svg\" alt=\"Open In Colab\"/></a>"
      ]
    },
    {
      "cell_type": "code",
      "source": [
        "!pip install --upgrade pip\n",
        "!pip install groq pandas gradio python-dotenv"
      ],
      "metadata": {
        "id": "bBULY8DuGVhf",
        "colab": {
          "base_uri": "https://localhost:8080/"
        },
        "outputId": "ccd8ab24-3054-4308-e503-fe71cb4397cc"
      },
      "execution_count": 1,
      "outputs": [
        {
          "output_type": "stream",
          "name": "stdout",
          "text": [
            "Requirement already satisfied: pip in /usr/local/lib/python3.12/dist-packages (24.1.2)\n",
            "Collecting pip\n",
            "  Downloading pip-25.2-py3-none-any.whl.metadata (4.7 kB)\n",
            "Downloading pip-25.2-py3-none-any.whl (1.8 MB)\n",
            "\u001b[2K   \u001b[90m━━━━━━━━━━━━━━━━━━━━━━━━━━━━━━━━━━━━━━━━\u001b[0m \u001b[32m1.8/1.8 MB\u001b[0m \u001b[31m10.1 MB/s\u001b[0m eta \u001b[36m0:00:00\u001b[0m\n",
            "\u001b[?25hInstalling collected packages: pip\n",
            "  Attempting uninstall: pip\n",
            "    Found existing installation: pip 24.1.2\n",
            "    Uninstalling pip-24.1.2:\n",
            "      Successfully uninstalled pip-24.1.2\n",
            "Successfully installed pip-25.2\n",
            "Collecting groq\n",
            "  Downloading groq-0.32.0-py3-none-any.whl.metadata (16 kB)\n",
            "Requirement already satisfied: pandas in /usr/local/lib/python3.12/dist-packages (2.2.2)\n",
            "Requirement already satisfied: gradio in /usr/local/lib/python3.12/dist-packages (5.47.2)\n",
            "Requirement already satisfied: python-dotenv in /usr/local/lib/python3.12/dist-packages (1.1.1)\n",
            "Requirement already satisfied: anyio<5,>=3.5.0 in /usr/local/lib/python3.12/dist-packages (from groq) (4.11.0)\n",
            "Requirement already satisfied: distro<2,>=1.7.0 in /usr/local/lib/python3.12/dist-packages (from groq) (1.9.0)\n",
            "Requirement already satisfied: httpx<1,>=0.23.0 in /usr/local/lib/python3.12/dist-packages (from groq) (0.28.1)\n",
            "Requirement already satisfied: pydantic<3,>=1.9.0 in /usr/local/lib/python3.12/dist-packages (from groq) (2.11.9)\n",
            "Requirement already satisfied: sniffio in /usr/local/lib/python3.12/dist-packages (from groq) (1.3.1)\n",
            "Requirement already satisfied: typing-extensions<5,>=4.10 in /usr/local/lib/python3.12/dist-packages (from groq) (4.15.0)\n",
            "Requirement already satisfied: idna>=2.8 in /usr/local/lib/python3.12/dist-packages (from anyio<5,>=3.5.0->groq) (3.10)\n",
            "Requirement already satisfied: certifi in /usr/local/lib/python3.12/dist-packages (from httpx<1,>=0.23.0->groq) (2025.8.3)\n",
            "Requirement already satisfied: httpcore==1.* in /usr/local/lib/python3.12/dist-packages (from httpx<1,>=0.23.0->groq) (1.0.9)\n",
            "Requirement already satisfied: h11>=0.16 in /usr/local/lib/python3.12/dist-packages (from httpcore==1.*->httpx<1,>=0.23.0->groq) (0.16.0)\n",
            "Requirement already satisfied: annotated-types>=0.6.0 in /usr/local/lib/python3.12/dist-packages (from pydantic<3,>=1.9.0->groq) (0.7.0)\n",
            "Requirement already satisfied: pydantic-core==2.33.2 in /usr/local/lib/python3.12/dist-packages (from pydantic<3,>=1.9.0->groq) (2.33.2)\n",
            "Requirement already satisfied: typing-inspection>=0.4.0 in /usr/local/lib/python3.12/dist-packages (from pydantic<3,>=1.9.0->groq) (0.4.2)\n",
            "Requirement already satisfied: numpy>=1.26.0 in /usr/local/lib/python3.12/dist-packages (from pandas) (2.0.2)\n",
            "Requirement already satisfied: python-dateutil>=2.8.2 in /usr/local/lib/python3.12/dist-packages (from pandas) (2.9.0.post0)\n",
            "Requirement already satisfied: pytz>=2020.1 in /usr/local/lib/python3.12/dist-packages (from pandas) (2025.2)\n",
            "Requirement already satisfied: tzdata>=2022.7 in /usr/local/lib/python3.12/dist-packages (from pandas) (2025.2)\n",
            "Requirement already satisfied: aiofiles<25.0,>=22.0 in /usr/local/lib/python3.12/dist-packages (from gradio) (24.1.0)\n",
            "Requirement already satisfied: brotli>=1.1.0 in /usr/local/lib/python3.12/dist-packages (from gradio) (1.1.0)\n",
            "Requirement already satisfied: fastapi<1.0,>=0.115.2 in /usr/local/lib/python3.12/dist-packages (from gradio) (0.118.0)\n",
            "Requirement already satisfied: ffmpy in /usr/local/lib/python3.12/dist-packages (from gradio) (0.6.1)\n",
            "Requirement already satisfied: gradio-client==1.13.3 in /usr/local/lib/python3.12/dist-packages (from gradio) (1.13.3)\n",
            "Requirement already satisfied: groovy~=0.1 in /usr/local/lib/python3.12/dist-packages (from gradio) (0.1.2)\n",
            "Requirement already satisfied: huggingface-hub<2.0,>=0.33.5 in /usr/local/lib/python3.12/dist-packages (from gradio) (0.35.3)\n",
            "Requirement already satisfied: jinja2<4.0 in /usr/local/lib/python3.12/dist-packages (from gradio) (3.1.6)\n",
            "Requirement already satisfied: markupsafe<4.0,>=2.0 in /usr/local/lib/python3.12/dist-packages (from gradio) (3.0.3)\n",
            "Requirement already satisfied: orjson~=3.0 in /usr/local/lib/python3.12/dist-packages (from gradio) (3.11.3)\n",
            "Requirement already satisfied: packaging in /usr/local/lib/python3.12/dist-packages (from gradio) (25.0)\n",
            "Requirement already satisfied: pillow<12.0,>=8.0 in /usr/local/lib/python3.12/dist-packages (from gradio) (11.3.0)\n",
            "Requirement already satisfied: pydub in /usr/local/lib/python3.12/dist-packages (from gradio) (0.25.1)\n",
            "Requirement already satisfied: python-multipart>=0.0.18 in /usr/local/lib/python3.12/dist-packages (from gradio) (0.0.20)\n",
            "Requirement already satisfied: pyyaml<7.0,>=5.0 in /usr/local/lib/python3.12/dist-packages (from gradio) (6.0.3)\n",
            "Requirement already satisfied: ruff>=0.9.3 in /usr/local/lib/python3.12/dist-packages (from gradio) (0.13.2)\n",
            "Requirement already satisfied: safehttpx<0.2.0,>=0.1.6 in /usr/local/lib/python3.12/dist-packages (from gradio) (0.1.6)\n",
            "Requirement already satisfied: semantic-version~=2.0 in /usr/local/lib/python3.12/dist-packages (from gradio) (2.10.0)\n",
            "Requirement already satisfied: starlette<1.0,>=0.40.0 in /usr/local/lib/python3.12/dist-packages (from gradio) (0.48.0)\n",
            "Requirement already satisfied: tomlkit<0.14.0,>=0.12.0 in /usr/local/lib/python3.12/dist-packages (from gradio) (0.13.3)\n",
            "Requirement already satisfied: typer<1.0,>=0.12 in /usr/local/lib/python3.12/dist-packages (from gradio) (0.19.2)\n",
            "Requirement already satisfied: uvicorn>=0.14.0 in /usr/local/lib/python3.12/dist-packages (from gradio) (0.37.0)\n",
            "Requirement already satisfied: fsspec in /usr/local/lib/python3.12/dist-packages (from gradio-client==1.13.3->gradio) (2025.3.0)\n",
            "Requirement already satisfied: websockets<16.0,>=13.0 in /usr/local/lib/python3.12/dist-packages (from gradio-client==1.13.3->gradio) (15.0.1)\n",
            "Requirement already satisfied: filelock in /usr/local/lib/python3.12/dist-packages (from huggingface-hub<2.0,>=0.33.5->gradio) (3.19.1)\n",
            "Requirement already satisfied: requests in /usr/local/lib/python3.12/dist-packages (from huggingface-hub<2.0,>=0.33.5->gradio) (2.32.4)\n",
            "Requirement already satisfied: tqdm>=4.42.1 in /usr/local/lib/python3.12/dist-packages (from huggingface-hub<2.0,>=0.33.5->gradio) (4.67.1)\n",
            "Requirement already satisfied: hf-xet<2.0.0,>=1.1.3 in /usr/local/lib/python3.12/dist-packages (from huggingface-hub<2.0,>=0.33.5->gradio) (1.1.10)\n",
            "Requirement already satisfied: click>=8.0.0 in /usr/local/lib/python3.12/dist-packages (from typer<1.0,>=0.12->gradio) (8.3.0)\n",
            "Requirement already satisfied: shellingham>=1.3.0 in /usr/local/lib/python3.12/dist-packages (from typer<1.0,>=0.12->gradio) (1.5.4)\n",
            "Requirement already satisfied: rich>=10.11.0 in /usr/local/lib/python3.12/dist-packages (from typer<1.0,>=0.12->gradio) (13.9.4)\n",
            "Requirement already satisfied: six>=1.5 in /usr/local/lib/python3.12/dist-packages (from python-dateutil>=2.8.2->pandas) (1.17.0)\n",
            "Requirement already satisfied: markdown-it-py>=2.2.0 in /usr/local/lib/python3.12/dist-packages (from rich>=10.11.0->typer<1.0,>=0.12->gradio) (4.0.0)\n",
            "Requirement already satisfied: pygments<3.0.0,>=2.13.0 in /usr/local/lib/python3.12/dist-packages (from rich>=10.11.0->typer<1.0,>=0.12->gradio) (2.19.2)\n",
            "Requirement already satisfied: mdurl~=0.1 in /usr/local/lib/python3.12/dist-packages (from markdown-it-py>=2.2.0->rich>=10.11.0->typer<1.0,>=0.12->gradio) (0.1.2)\n",
            "Requirement already satisfied: charset_normalizer<4,>=2 in /usr/local/lib/python3.12/dist-packages (from requests->huggingface-hub<2.0,>=0.33.5->gradio) (3.4.3)\n",
            "Requirement already satisfied: urllib3<3,>=1.21.1 in /usr/local/lib/python3.12/dist-packages (from requests->huggingface-hub<2.0,>=0.33.5->gradio) (2.5.0)\n",
            "Downloading groq-0.32.0-py3-none-any.whl (135 kB)\n",
            "Installing collected packages: groq\n",
            "Successfully installed groq-0.32.0\n"
          ]
        }
      ]
    },
    {
      "cell_type": "code",
      "source": [
        "from google.colab import drive\n",
        "drive.mount('/content/drive')\n"
      ],
      "metadata": {
        "id": "GX06-P4RFoAm",
        "colab": {
          "base_uri": "https://localhost:8080/"
        },
        "outputId": "47b988da-fa65-4545-8773-b8004aa60ed4"
      },
      "execution_count": null,
      "outputs": [
        {
          "output_type": "stream",
          "name": "stdout",
          "text": [
            "Drive already mounted at /content/drive; to attempt to forcibly remount, call drive.mount(\"/content/drive\", force_remount=True).\n"
          ]
        }
      ]
    },
    {
      "cell_type": "code",
      "source": [
        "from getpass import getpass\n",
        "raw_key = getpass(\"Paste your GROQ API key (hidden): \")\n"
      ],
      "metadata": {
        "id": "cosjdijSGzX9",
        "colab": {
          "base_uri": "https://localhost:8080/"
        },
        "outputId": "014ccba0-9f88-4173-99d6-b3a5d57fd64b"
      },
      "execution_count": null,
      "outputs": [
        {
          "name": "stdout",
          "output_type": "stream",
          "text": [
            "Paste your GROQ API key (hidden): ··········\n"
          ]
        }
      ]
    },
    {
      "cell_type": "code",
      "source": [
        "import os, json, re\n",
        "import pandas as pd\n",
        "\n",
        "# Install groq if not already installed\n",
        "try:\n",
        "    from groq import Groq\n",
        "except ImportError:\n",
        "    !pip install groq\n",
        "    from groq import Groq\n",
        "\n",
        "\n",
        "# ✅ updated model name (llama3-70b-8192)\n",
        "DEFAULT_MODEL = \"openai/gpt-oss-20b\"  # supported model\n",
        "\n",
        "\n",
        "client = Groq(api_key=raw_key)\n",
        "\n",
        "def analyze_transcript_with_groq(transcript: str, model: str = DEFAULT_MODEL):\n",
        "    \"\"\"\n",
        "    Summarise transcript and classify sentiment using Groq's chat completion API.\n",
        "    \"\"\"\n",
        "    system = {\"role\":\"system\",\n",
        "              \"content\":\"You summarise customer calls and classify sentiment.\"}\n",
        "    user = {\"role\":\"user\", \"content\": (\n",
        "        \"Return ONLY this JSON:\\n\"\n",
        "        '{\"summary\":\"<2-3 sentence summary>\", \"sentiment\":\"Positive|Neutral|Negative|Mixed\"}\\n\\n'\n",
        "        \"Transcript:\\n\" + transcript\n",
        "    )}\n",
        "    resp = client.chat.completions.create(messages=[system, user], model=model)\n",
        "    raw_text = resp.choices[0].message.content\n",
        "\n",
        "    # Try strict JSON parse first\n",
        "    try:\n",
        "        parsed = json.loads(raw_text)\n",
        "        return parsed.get(\"summary\",\"\").strip(), parsed.get(\"sentiment\",\"\").strip(), raw_text\n",
        "    except Exception:\n",
        "        # fallback: find JSON-like substring\n",
        "        m = re.search(r'\\{.*\\}', raw_text, re.S)\n",
        "        if m:\n",
        "            try:\n",
        "                parsed = json.loads(m.group())\n",
        "                return parsed.get(\"summary\",\"\").strip(), parsed.get(\"sentiment\",\"\").strip(), raw_text\n",
        "            except Exception:\n",
        "                pass\n",
        "        # final fallback\n",
        "        summary, sentiment = \"\", \"\"\n",
        "        for line in raw_text.splitlines():\n",
        "            if line.lower().startswith(\"summary\"):\n",
        "                summary = line.split(\":\",1)[1].strip()\n",
        "            if line.lower().startswith(\"sentiment\"):\n",
        "                sentiment = line.split(\":\",1)[1].strip()\n",
        "        if not summary: summary = raw_text[:250]\n",
        "        if not sentiment: sentiment = \"Unknown\"\n",
        "        return summary, sentiment, raw_text\n",
        "\n",
        "def save_row_to_csv(transcript, summary, sentiment,\n",
        "                    path=\"/content/drive/MyDrive/call_analysis.csv\"):\n",
        "    \"\"\"\n",
        "    Append results to a CSV file in Google Drive.\n",
        "    \"\"\"\n",
        "    # Check if the directory exists before saving\n",
        "    dir_path = os.path.dirname(path)\n",
        "    if not os.path.exists(dir_path):\n",
        "        raise OSError(f\"Cannot save file into a non-existent directory: '{dir_path}'. Please ensure Google Drive is mounted correctly.\")\n",
        "\n",
        "    df = pd.DataFrame([{\"Transcript\": transcript,\n",
        "                        \"Summary\": summary,\n",
        "                        \"Sentiment\": sentiment}])\n",
        "    if os.path.exists(path):\n",
        "        df.to_csv(path, mode='a', header=False, index=False)\n",
        "    else:\n",
        "        df.to_csv(path, index=False)\n",
        "    return path"
      ],
      "metadata": {
        "id": "t8IqYoxFG__2"
      },
      "execution_count": null,
      "outputs": []
    },
    {
      "cell_type": "code",
      "source": [
        "sample = \"\"\"Agent: Hello, how can I help you?\n",
        "Customer: I tried to book a slot yesterday but payment failed and I got charged twice.\"\"\"\n",
        "\n",
        "summary, sentiment, raw = analyze_transcript_with_groq(sample)\n",
        "print(\"Summary:\", summary)\n",
        "print(\"Sentiment:\", sentiment)\n",
        "print(\"Raw model output:\\n\",raw)\n",
        "\n",
        "\n",
        "\n",
        "\n",
        "\n"
      ],
      "metadata": {
        "id": "lBAhepr5HUjV",
        "colab": {
          "base_uri": "https://localhost:8080/"
        },
        "outputId": "3a85bb51-819f-4f57-aea9-d4e81ce56d53"
      },
      "execution_count": null,
      "outputs": [
        {
          "output_type": "stream",
          "name": "stdout",
          "text": [
            "Summary: The customer attempted to book a slot and encountered a payment failure, resulting in being charged twice. They are seeking resolution for the duplicate charge and the unsuccessful transaction.\n",
            "Sentiment: Negative\n",
            "Raw model output:\n",
            " {\"summary\":\"The customer attempted to book a slot and encountered a payment failure, resulting in being charged twice. They are seeking resolution for the duplicate charge and the unsuccessful transaction.\",\"sentiment\":\"Negative\"}\n"
          ]
        }
      ]
    },
    {
      "cell_type": "markdown",
      "source": [],
      "metadata": {
        "id": "3tIjVXp0APAx"
      }
    },
    {
      "cell_type": "code",
      "source": [
        "import gradio as gr\n",
        "\n",
        "def process_and_save(transcript):\n",
        "    summary, sentiment, raw = analyze_transcript_with_groq(transcript)\n",
        "    saved = save_row_to_csv(transcript, summary, sentiment)\n",
        "    return summary, sentiment, raw + \"\\n\\nSaved to: \" + saved\n",
        "\n",
        "with gr.Blocks() as demo:\n",
        "    gr.Markdown(\"## Call Transcript Analyzer\")\n",
        "    inp = gr.Textbox(label=\"Transcript\", lines=8)\n",
        "    out_sum = gr.Textbox(label=\"Summary\", interactive=False)\n",
        "    out_sent = gr.Textbox(label=\"Sentiment\", interactive=False)\n",
        "    out_raw = gr.Textbox(label=\"Raw model output\", lines=6, interactive=False)\n",
        "    btn = gr.Button(\"Analyze & Save\")\n",
        "    btn.click(fn=process_and_save, inputs=inp,\n",
        "              outputs=[out_sum, out_sent, out_raw])\n",
        "\n",
        "demo.launch(share=True, debug=True)\n",
        "\n"
      ],
      "metadata": {
        "id": "9PeAnPh6HeEF",
        "colab": {
          "base_uri": "https://localhost:8080/",
          "height": 612
        },
        "outputId": "c8e05c66-7155-4a59-ee6b-5f06c2b893be"
      },
      "execution_count": null,
      "outputs": [
        {
          "output_type": "stream",
          "name": "stdout",
          "text": [
            "Colab notebook detected. This cell will run indefinitely so that you can see errors and logs. To turn off, set debug=False in launch().\n",
            "* Running on public URL: https://e125951ff142a5b329.gradio.live\n",
            "\n",
            "This share link expires in 1 week. For free permanent hosting and GPU upgrades, run `gradio deploy` from the terminal in the working directory to deploy to Hugging Face Spaces (https://huggingface.co/spaces)\n"
          ]
        },
        {
          "output_type": "display_data",
          "data": {
            "text/plain": [
              "<IPython.core.display.HTML object>"
            ],
            "text/html": [
              "<div><iframe src=\"https://e125951ff142a5b329.gradio.live\" width=\"100%\" height=\"500\" allow=\"autoplay; camera; microphone; clipboard-read; clipboard-write;\" frameborder=\"0\" allowfullscreen></iframe></div>"
            ]
          },
          "metadata": {}
        }
      ]
    }
  ]
}